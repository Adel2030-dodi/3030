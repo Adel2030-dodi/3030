{
 "cells": [
  {
   "cell_type": "markdown",
   "id": "31d8c2ef-ac39-4826-8024-b9c09fe232aa",
   "metadata": {},
   "source": [
    "# Data Scince Tools and Ecosystem"
   ]
  },
  {
   "cell_type": "markdown",
   "id": "7648dcbc-c3a9-4d39-944d-5a9ff232038d",
   "metadata": {},
   "source": [
    "in this notebook,we will explore some of the most important languages for Data Scince.\n",
    "* R\n",
    "* Python\n",
    "* SQL\n",
    "* Java\n",
    "  "
   ]
  },
  {
   "cell_type": "markdown",
   "id": "d241c97c-fd13-4964-8af5-65748a07516a",
   "metadata": {},
   "source": [
    "some of the popular tools used in Data Scince are:\n",
    "* Jupyter Notebook\n",
    "* RStudio\n",
    "* Visual Studio Code\n",
    "* Apache Spark\n",
    "* Tableau\n",
    "  "
   ]
  },
  {
   "cell_type": "markdown",
   "id": "f268ddc4-bffd-47cd-87a8-34df9f797777",
   "metadata": {},
   "source": [
    "Below are a few examples of evaluating arithmetic expression in python."
   ]
  },
  {
   "cell_type": "code",
   "execution_count": 3,
   "id": "316937cb-109a-4d55-a242-62948c513708",
   "metadata": {},
   "outputs": [
    {
     "data": {
      "text/plain": [
       "17"
      ]
     },
     "execution_count": 3,
     "metadata": {},
     "output_type": "execute_result"
    }
   ],
   "source": [
    "# This is a simple arithmetic expression to multiply then add integers\n",
    "(3*4)+5"
   ]
  },
  {
   "cell_type": "code",
   "execution_count": 4,
   "id": "7c083b33-f91a-4b78-99d2-d6cc5af9fd9c",
   "metadata": {},
   "outputs": [
    {
     "data": {
      "text/plain": [
       "3.3333333333333335"
      ]
     },
     "execution_count": 4,
     "metadata": {},
     "output_type": "execute_result"
    }
   ],
   "source": [
    "# This code cell will convert 200 minutes to hours by\n",
    "# dividing by 60\n",
    "minutes=200\n",
    "hours=minutes/60\n",
    "hours"
   ]
  },
  {
   "cell_type": "markdown",
   "id": "b174154f-1365-47fb-ad09-b77d7136c4e5",
   "metadata": {},
   "source": [
    "This notebooks opjectives are:\n",
    "* list popular languages for Data Scince.\n",
    "* list popular libraries for Data Scince.\n",
    "* convert minutes to hours.\n",
    "* perform simple arithmetic operations."
   ]
  },
  {
   "cell_type": "code",
   "execution_count": 6,
   "id": "d0f2c2eb-d854-4873-bbb5-ad9e9b49df86",
   "metadata": {},
   "outputs": [
    {
     "data": {
      "text/plain": [
       "3.3333333333333335"
      ]
     },
     "execution_count": 6,
     "metadata": {},
     "output_type": "execute_result"
    }
   ],
   "source": [
    "# this code will convert 200 minutes to hours.\n",
    "200/60"
   ]
  },
  {
   "cell_type": "markdown",
   "id": "472c42f1-a68d-49f3-8b78-8aebadd6e7ed",
   "metadata": {},
   "source": [
    "This notebooks opjectives are:\n",
    "* List popular languages for Data Scince.\n",
    "* list popular tools for Data Scince.\n",
    "* perform simple arithmetic operations.\n",
    "* convert units of time(minutes to hours)."
   ]
  },
  {
   "cell_type": "markdown",
   "id": "425e6e89-fb9f-4751-ad85-30293f7e107e",
   "metadata": {},
   "source": [
    "## Author\n",
    "Adel Bukhari"
   ]
  },
  {
   "cell_type": "code",
   "execution_count": null,
   "id": "6e5e99bf-cb23-42fc-9f43-a12a94e33a09",
   "metadata": {},
   "outputs": [],
   "source": []
  }
 ],
 "metadata": {
  "kernelspec": {
   "display_name": "Python [conda env:base] *",
   "language": "python",
   "name": "conda-base-py"
  },
  "language_info": {
   "codemirror_mode": {
    "name": "ipython",
    "version": 3
   },
   "file_extension": ".py",
   "mimetype": "text/x-python",
   "name": "python",
   "nbconvert_exporter": "python",
   "pygments_lexer": "ipython3",
   "version": "3.13.5"
  }
 },
 "nbformat": 4,
 "nbformat_minor": 5
}
